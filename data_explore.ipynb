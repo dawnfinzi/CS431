{
 "cells": [
  {
   "cell_type": "code",
   "execution_count": 1,
   "metadata": {},
   "outputs": [],
   "source": [
    "#basic imports\n",
    "%matplotlib inline\n",
    "\n",
    "import matplotlib\n",
    "import matplotlib.pyplot as plt\n",
    "\n",
    "import pymongo as pm\n",
    "import numpy as np\n",
    "import h5py\n",
    "import scipy as sp\n",
    "import scipy.stats as stats\n",
    "import tables\n",
    "import os"
   ]
  },
  {
   "cell_type": "code",
   "execution_count": 2,
   "metadata": {},
   "outputs": [],
   "source": [
    "file_path=\"/share/kalanit/biac2/kgs/projects/Dawn/CS431/data/\"\n",
    "\n",
    "#read in the mat files\n",
    "fmri_dataset=h5py.File(os.path.join(file_path,\"estimated_responses.mat\"),'r')"
   ]
  },
  {
   "cell_type": "code",
   "execution_count": 3,
   "metadata": {},
   "outputs": [
    {
     "data": {
      "text/plain": [
       "[(u'dataTrnS1', <HDF5 dataset \"dataTrnS1\": shape (1750, 25915), type \"<f8\">),\n",
       " (u'dataTrnS2', <HDF5 dataset \"dataTrnS2\": shape (1750, 26329), type \"<f8\">),\n",
       " (u'dataValS1', <HDF5 dataset \"dataValS1\": shape (120, 25915), type \"<f8\">),\n",
       " (u'dataValS2', <HDF5 dataset \"dataValS2\": shape (120, 26329), type \"<f8\">),\n",
       " (u'roiS1', <HDF5 dataset \"roiS1\": shape (1, 25915), type \"<f8\">),\n",
       " (u'roiS2', <HDF5 dataset \"roiS2\": shape (1, 26329), type \"<f8\">),\n",
       " (u'voxIdxS1', <HDF5 dataset \"voxIdxS1\": shape (1, 25915), type \"<f8\">),\n",
       " (u'voxIdxS2', <HDF5 dataset \"voxIdxS2\": shape (1, 26329), type \"<f8\">)]"
      ]
     },
     "execution_count": 3,
     "metadata": {},
     "output_type": "execute_result"
    }
   ],
   "source": [
    "list(fmri_dataset.items())"
   ]
  },
  {
   "cell_type": "code",
   "execution_count": 4,
   "metadata": {},
   "outputs": [
    {
     "data": {
      "text/plain": [
       "[u'dataTrnS1',\n",
       " u'dataTrnS2',\n",
       " u'dataValS1',\n",
       " u'dataValS2',\n",
       " u'roiS1',\n",
       " u'roiS2',\n",
       " u'voxIdxS1',\n",
       " u'voxIdxS2']"
      ]
     },
     "execution_count": 4,
     "metadata": {},
     "output_type": "execute_result"
    }
   ],
   "source": [
    "fmri_dataset.keys()"
   ]
  },
  {
   "cell_type": "code",
   "execution_count": null,
   "metadata": {},
   "outputs": [],
   "source": [
    "#f = tables.open_file(\"data/EstimatedResponses.mat\")"
   ]
  },
  {
   "cell_type": "code",
   "execution_count": 5,
   "metadata": {},
   "outputs": [],
   "source": [
    "fmri_dataset.close()"
   ]
  }
 ],
 "metadata": {
  "kernelspec": {
   "display_name": "Python 2",
   "language": "python",
   "name": "python2"
  },
  "language_info": {
   "codemirror_mode": {
    "name": "ipython",
    "version": 2
   },
   "file_extension": ".py",
   "mimetype": "text/x-python",
   "name": "python",
   "nbconvert_exporter": "python",
   "pygments_lexer": "ipython2",
   "version": "2.7.12"
  }
 },
 "nbformat": 4,
 "nbformat_minor": 2
}
