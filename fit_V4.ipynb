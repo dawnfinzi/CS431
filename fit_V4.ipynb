{
 "cells": [
  {
   "cell_type": "code",
   "execution_count": 2,
   "metadata": {},
   "outputs": [],
   "source": [
    "#basic imports\n",
    "%matplotlib inline\n",
    "\n",
    "import matplotlib\n",
    "import matplotlib.pyplot as plt\n",
    "\n",
    "import pymongo as pm\n",
    "import numpy as np\n",
    "import h5py\n",
    "import scipy as sp\n",
    "import scipy.stats as stats\n",
    "import tables\n",
    "import os"
   ]
  },
  {
   "cell_type": "code",
   "execution_count": 5,
   "metadata": {},
   "outputs": [],
   "source": [
    "# read in the alexnet features\n",
    "h5f = h5py.File('alexnet/alexnet_conv3_features.h5','r')\n",
    "train_features = h5f['train'][:]\n",
    "val_features = h5f['val'][:]\n",
    "h5f.close()"
   ]
  },
  {
   "cell_type": "code",
   "execution_count": 7,
   "metadata": {},
   "outputs": [
    {
     "data": {
      "text/plain": [
       "(1750, 14, 14, 384)"
      ]
     },
     "execution_count": 7,
     "metadata": {},
     "output_type": "execute_result"
    }
   ],
   "source": [
    "train_features.shape"
   ]
  },
  {
   "cell_type": "code",
   "execution_count": 9,
   "metadata": {},
   "outputs": [],
   "source": [
    "# let's bring in the brain data\n",
    "\n",
    "#read in the mat files\n",
    "with h5py.File('data/EstimatedResponses.mat','r') as fmri_dataset:\n",
    "    train_S1 = fmri_dataset['dataTrnS1'][:]\n",
    "    test_S1 = fmri_dataset['dataValS1'][:]\n",
    "    roi_S1 = fmri_dataset['roiS1'][:]\n",
    "    \n",
    "    train_S2 = fmri_dataset['dataTrnS2'][:]\n",
    "    test_S2 = fmri_dataset['dataValS2'][:]\n",
    "    roi_S2 = fmri_dataset['roiS2'][:]\n",
    "    \n",
    "    unique_ROIs = np.unique((fmri_dataset['roiS1'])) "
   ]
  },
  {
   "cell_type": "code",
   "execution_count": 10,
   "metadata": {},
   "outputs": [],
   "source": [
    "#organize subject 1\n",
    "S1_train_data_by_ROI = {c: train_S1[:,roi_S1[0,:] == c] \n",
    "                       for c in unique_ROIs}\n",
    "S1_test_data_by_ROI = {c: test_S1[:,roi_S1[0,:] == c] \n",
    "                       for c in unique_ROIs}\n",
    "#organize subject 2\n",
    "S1_train_data_by_ROI = {c: train_S2[:,roi_S2[0,:] == c] \n",
    "                       for c in unique_ROIs}\n",
    "S1_test_data_by_ROI = {c: test_S2[:,roi_S2[0,:] == c] \n",
    "                       for c in unique_ROIs}"
   ]
  },
  {
   "cell_type": "code",
   "execution_count": 12,
   "metadata": {},
   "outputs": [
    {
     "data": {
      "text/plain": [
       "array([[        nan,         nan,         nan, ..., -0.75287412,\n",
       "         1.42836727,  1.04388544],\n",
       "       [        nan,         nan,         nan, ..., -0.08653505,\n",
       "         1.38330723,  0.37550432],\n",
       "       [        nan,         nan,         nan, ...,  1.01755498,\n",
       "        -0.33827361,  0.64753462],\n",
       "       ...,\n",
       "       [-0.02941922, -0.31418271,  1.17927117, ..., -0.38448378,\n",
       "        -0.5397169 ,  0.78245849],\n",
       "       [ 0.99493732,  0.76161928,  0.99585627, ..., -1.51139071,\n",
       "         1.39556167,  0.74428596],\n",
       "       [ 1.00058702, -2.48457912, -1.77321108, ...,  1.57612049,\n",
       "         1.36631417, -0.77861461]])"
      ]
     },
     "execution_count": 12,
     "metadata": {},
     "output_type": "execute_result"
    }
   ],
   "source": [
    "S1_train_data_by_ROI[0.0]"
   ]
  },
  {
   "cell_type": "code",
   "execution_count": null,
   "metadata": {},
   "outputs": [],
   "source": []
  }
 ],
 "metadata": {
  "kernelspec": {
   "display_name": "Python 2",
   "language": "python",
   "name": "python2"
  },
  "language_info": {
   "codemirror_mode": {
    "name": "ipython",
    "version": 2
   },
   "file_extension": ".py",
   "mimetype": "text/x-python",
   "name": "python",
   "nbconvert_exporter": "python",
   "pygments_lexer": "ipython2",
   "version": "2.7.12"
  }
 },
 "nbformat": 4,
 "nbformat_minor": 2
}
