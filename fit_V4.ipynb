{
 "cells": [
  {
   "cell_type": "code",
   "execution_count": 40,
   "metadata": {},
   "outputs": [],
   "source": [
    "#basic imports\n",
    "%matplotlib inline\n",
    "\n",
    "import matplotlib\n",
    "import matplotlib.pyplot as plt\n",
    "\n",
    "import pymongo as pm\n",
    "import numpy as np\n",
    "import h5py\n",
    "import scipy as sp\n",
    "import scipy.stats as stats\n",
    "import os\n",
    "\n",
    "#import PLS Regression routine from scikit\n",
    "from sklearn.cross_decomposition import PLSRegression"
   ]
  },
  {
   "cell_type": "code",
   "execution_count": 5,
   "metadata": {},
   "outputs": [],
   "source": [
    "# read in the alexnet features\n",
    "h5f = h5py.File('alexnet/alexnet_conv3_features.h5','r')\n",
    "train_features = h5f['train'][:]\n",
    "val_features = h5f['val'][:]\n",
    "h5f.close()"
   ]
  },
  {
   "cell_type": "code",
   "execution_count": 7,
   "metadata": {},
   "outputs": [
    {
     "data": {
      "text/plain": [
       "(1750, 14, 14, 384)"
      ]
     },
     "execution_count": 7,
     "metadata": {},
     "output_type": "execute_result"
    }
   ],
   "source": [
    "train_features.shape"
   ]
  },
  {
   "cell_type": "code",
   "execution_count": 9,
   "metadata": {},
   "outputs": [],
   "source": [
    "# let's bring in the brain data\n",
    "\n",
    "#read in the mat files\n",
    "with h5py.File('data/EstimatedResponses.mat','r') as fmri_dataset:\n",
    "    train_S1 = fmri_dataset['dataTrnS1'][:]\n",
    "    test_S1 = fmri_dataset['dataValS1'][:]\n",
    "    roi_S1 = fmri_dataset['roiS1'][:]\n",
    "    \n",
    "    train_S2 = fmri_dataset['dataTrnS2'][:]\n",
    "    test_S2 = fmri_dataset['dataValS2'][:]\n",
    "    roi_S2 = fmri_dataset['roiS2'][:]\n",
    "    \n",
    "    unique_ROIs = np.unique((fmri_dataset['roiS1'])) "
   ]
  },
  {
   "cell_type": "code",
   "execution_count": 17,
   "metadata": {},
   "outputs": [],
   "source": [
    "#organize subject 1\n",
    "S1_train_data_by_ROI = {c: train_S1[:,roi_S1[0,:] == c] \n",
    "                       for c in unique_ROIs}\n",
    "S1_test_data_by_ROI = {c: test_S1[:,roi_S1[0,:] == c] \n",
    "                       for c in unique_ROIs}\n",
    "#organize subject 2\n",
    "S2_train_data_by_ROI = {c: train_S2[:,roi_S2[0,:] == c] \n",
    "                       for c in unique_ROIs}\n",
    "S2_test_data_by_ROI = {c: test_S2[:,roi_S2[0,:] == c] \n",
    "                       for c in unique_ROIs}"
   ]
  },
  {
   "cell_type": "code",
   "execution_count": 18,
   "metadata": {},
   "outputs": [
    {
     "data": {
      "text/plain": [
       "[0.0, 1.0, 2.0, 3.0, 4.0, 5.0, 6.0, 7.0]"
      ]
     },
     "execution_count": 18,
     "metadata": {},
     "output_type": "execute_result"
    }
   ],
   "source": [
    "S1_train_data_by_ROI.keys()\n",
    "# remember the one we care about is index 6 for V4"
   ]
  },
  {
   "cell_type": "code",
   "execution_count": 20,
   "metadata": {},
   "outputs": [
    {
     "name": "stdout",
     "output_type": "stream",
     "text": [
      "(1750, 1550)\n",
      "(1750, 1022)\n"
     ]
    }
   ],
   "source": [
    "#okay how many voxels are we working with\n",
    "print(S1_train_data_by_ROI[6.0].shape)\n",
    "print(S2_train_data_by_ROI[6.0].shape)"
   ]
  },
  {
   "cell_type": "code",
   "execution_count": 143,
   "metadata": {},
   "outputs": [
    {
     "name": "stdout",
     "output_type": "stream",
     "text": [
      "(1750, 1535)\n",
      "(120, 1535)\n",
      "(1750, 1022)\n",
      "(120, 1022)\n"
     ]
    },
    {
     "data": {
      "text/plain": [
       "0"
      ]
     },
     "execution_count": 143,
     "metadata": {},
     "output_type": "execute_result"
    }
   ],
   "source": [
    "#let's get rid of any voxels that have NaNs for any training images\n",
    "\n",
    "#Subject 1\n",
    "S1_V4 = S1_train_data_by_ROI[6.0].T\n",
    "x=S1_V4[~np.isnan(S1_V4).any(axis=1)]\n",
    "S1_V4_train = x.T\n",
    "print(S1_V4_train.shape)\n",
    "\n",
    "S1_V4_val = S1_test_data_by_ROI[6.0].T\n",
    "x=S1_V4_val[~np.isnan(S1_V4).any(axis=1)]\n",
    "S1_V4_test = x.T\n",
    "print(S1_V4_test.shape)\n",
    "\n",
    "sum(sum(np.isnan(S1_V4_test))) #make sure we don't have any NaNs left in the test data\n",
    "\n",
    "#Subject 2\n",
    "S2_V4 = S2_train_data_by_ROI[6.0].T\n",
    "x=S2_V4[~np.isnan(S2_V4).any(axis=1)]\n",
    "S2_V4_train = x.T\n",
    "print(S2_V4_train.shape)\n",
    "\n",
    "S2_V4_val = S2_test_data_by_ROI[6.0].T\n",
    "x=S2_V4_val[~np.isnan(S2_V4).any(axis=1)]\n",
    "S2_V4_test = x.T\n",
    "print(S2_V4_test.shape)\n",
    "\n",
    "sum(sum(np.isnan(S2_V4_test))) #make sure we don't have any NaNs left in the test data"
   ]
  },
  {
   "cell_type": "code",
   "execution_count": 83,
   "metadata": {},
   "outputs": [],
   "source": [
    "def rsquared(v1, v2):\n",
    "    w, b, r, p, ser = stats.linregress(v1, v2)\n",
    "    return r**2"
   ]
  },
  {
   "cell_type": "code",
   "execution_count": 84,
   "metadata": {},
   "outputs": [],
   "source": [
    "def evaluate_regression_results(predicted, actual):\n",
    "    \"\"\"computing various useful metrics for regression results\n",
    "    \"\"\"\n",
    "    result = {}\n",
    "    if actual.ndim > 1: #this is triggered if the prediction is of multiple outputs at once\n",
    "        result['pearson_array'] = np.array([stats.pearsonr(p, a)[0] for p, a in zip(predicted.T, actual.T)])\n",
    "        result['spearman_array'] = np.array([stats.spearmanr(p, a)[0] for p, a in zip(predicted.T, actual.T)])\n",
    "        result['rsquared_array'] = np.array([rsquared(p, a) for p, a in zip(predicted.T, actual.T)])\n",
    "        result['pearson'] = np.median(result['pearson_array'])\n",
    "        result['spearman'] = np.median(result['spearman_array'])\n",
    "        result['rsquared'] = np.median(result['rsquared_array'])\n",
    "    else:\n",
    "        result['pearson'] = stats.pearsonr(predicted, actual)[0]\n",
    "        result['spearman'] = stats.spearmanr(predicted, actual)[0]\n",
    "        result['rsquared'] = rsquared(predicted, actual)\n",
    "    return result\n"
   ]
  },
  {
   "cell_type": "code",
   "execution_count": 125,
   "metadata": {},
   "outputs": [],
   "source": [
    "pls25 = PLSRegression(n_components=50)#, scale=False)"
   ]
  },
  {
   "cell_type": "code",
   "execution_count": 126,
   "metadata": {},
   "outputs": [
    {
     "data": {
      "text/plain": [
       "PLSRegression(copy=True, max_iter=500, n_components=50, scale=True, tol=1e-06)"
      ]
     },
     "execution_count": 126,
     "metadata": {},
     "output_type": "execute_result"
    }
   ],
   "source": [
    "pls25"
   ]
  },
  {
   "cell_type": "code",
   "execution_count": 127,
   "metadata": {},
   "outputs": [
    {
     "name": "stdout",
     "output_type": "stream",
     "text": [
      "(1750, 75264)\n",
      "(120, 75264)\n"
     ]
    }
   ],
   "source": [
    "#flatten the conv features\n",
    "shp = train_features.shape\n",
    "train_feats = train_features.reshape((shp[0], np.prod(shp[1:])))\n",
    "print(train_feats.shape)\n",
    "\n",
    "shp = val_features.shape\n",
    "val_feats = val_features.reshape((shp[0], np.prod(shp[1:])))\n",
    "print(val_feats.shape)"
   ]
  },
  {
   "cell_type": "code",
   "execution_count": 128,
   "metadata": {},
   "outputs": [
    {
     "data": {
      "text/plain": [
       "PLSRegression(copy=True, max_iter=500, n_components=50, scale=True, tol=1e-06)"
      ]
     },
     "execution_count": 128,
     "metadata": {},
     "output_type": "execute_result"
    }
   ],
   "source": [
    "pls25.fit(train_feats, S1_V4_train)"
   ]
  },
  {
   "cell_type": "code",
   "execution_count": 129,
   "metadata": {},
   "outputs": [],
   "source": [
    "S1_pred_train_vox = pls25.predict(train_feats)"
   ]
  },
  {
   "cell_type": "code",
   "execution_count": 130,
   "metadata": {},
   "outputs": [],
   "source": [
    "train_results = evaluate_regression_results(S1_pred_train_vox,S1_V4_train)"
   ]
  },
  {
   "cell_type": "code",
   "execution_count": 131,
   "metadata": {},
   "outputs": [
    {
     "data": {
      "text/plain": [
       "(1535,)"
      ]
     },
     "execution_count": 131,
     "metadata": {},
     "output_type": "execute_result"
    }
   ],
   "source": [
    "train_results['rsquared_array'].shape"
   ]
  },
  {
   "cell_type": "code",
   "execution_count": 132,
   "metadata": {},
   "outputs": [
    {
     "data": {
      "text/plain": [
       "{'pearson': 0.3920543583208737,\n",
       " 'pearson_array': array([0.52400149, 0.23512401, 0.19664139, ..., 0.37302986, 0.25043704,\n",
       "        0.35441066]),\n",
       " 'rsquared': 0.1537066198783919,\n",
       " 'rsquared_array': array([0.27457756, 0.0552833 , 0.03866784, ..., 0.13915127, 0.06271871,\n",
       "        0.12560692]),\n",
       " 'spearman': 0.369251402671012,\n",
       " 'spearman_array': array([0.51420718, 0.2243858 , 0.17645073, ..., 0.35844459, 0.24480546,\n",
       "        0.31393106])}"
      ]
     },
     "execution_count": 132,
     "metadata": {},
     "output_type": "execute_result"
    }
   ],
   "source": [
    "train_results"
   ]
  },
  {
   "cell_type": "code",
   "execution_count": null,
   "metadata": {},
   "outputs": [],
   "source": []
  }
 ],
 "metadata": {
  "kernelspec": {
   "display_name": "Python 2",
   "language": "python",
   "name": "python2"
  },
  "language_info": {
   "codemirror_mode": {
    "name": "ipython",
    "version": 2
   },
   "file_extension": ".py",
   "mimetype": "text/x-python",
   "name": "python",
   "nbconvert_exporter": "python",
   "pygments_lexer": "ipython2",
   "version": "2.7.12"
  }
 },
 "nbformat": 4,
 "nbformat_minor": 2
}
